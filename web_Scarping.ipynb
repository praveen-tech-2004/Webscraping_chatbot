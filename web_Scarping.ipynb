{
  "cells": [
    {
      "cell_type": "code",
      "execution_count": null,
      "metadata": {
        "id": "ekOWSGh8GLsy"
      },
      "outputs": [],
      "source": [
        "import requests\n",
        "from bs4 import BeautifulSoup\n"
      ]
    },
    {
      "cell_type": "code",
      "execution_count": null,
      "metadata": {
        "id": "mqEF7zYcGTX7"
      },
      "outputs": [],
      "source": [
        "url = 'https://svce.edu.in/'\n",
        "\n",
        "\n",
        "\n",
        "response = requests.get(url)\n",
        "\n",
        "if response.status_code == 200:\n",
        "    # The request was successful\n",
        "    html = response.text\n",
        "else:\n",
        "    # Handle errors, such as 404 Not Found\n",
        "    print(f'Error: {response.status_code}')\n"
      ]
    },
    {
      "cell_type": "markdown",
      "metadata": {
        "id": "amULtU4QGx-I"
      },
      "source": []
    },
    {
      "cell_type": "code",
      "execution_count": null,
      "metadata": {
        "id": "X40usDlacprr"
      },
      "outputs": [],
      "source": [
        "soup = BeautifulSoup(html, 'html.parser')"
      ]
    },
    {
      "cell_type": "code",
      "execution_count": null,
      "metadata": {
        "id": "0H-WhrNMGyQG"
      },
      "outputs": [],
      "source": [
        "raw_doc=soup.get_text()\n"
      ]
    },
    {
      "cell_type": "code",
      "execution_count": null,
      "metadata": {
        "id": "jA4-pYqWHnCq"
      },
      "outputs": [],
      "source": [
        "import numpy as np\n",
        "import nltk\n",
        "import string\n",
        "import random\n",
        "import re\n",
        "\n"
      ]
    },
    {
      "cell_type": "code",
      "execution_count": null,
      "metadata": {
        "colab": {
          "base_uri": "https://localhost:8080/"
        },
        "id": "nle6gSdEHFLd",
        "outputId": "2929e9dd-c0df-4ec1-b60d-8a51fe12be18"
      },
      "outputs": [
        {
          "name": "stderr",
          "output_type": "stream",
          "text": [
            "[nltk_data] Downloading package punkt to /root/nltk_data...\n",
            "[nltk_data]   Unzipping tokenizers/punkt.zip.\n",
            "[nltk_data] Downloading package wordnet to /root/nltk_data...\n",
            "[nltk_data] Downloading package omw-1.4 to /root/nltk_data...\n"
          ]
        },
        {
          "data": {
            "text/plain": [
              "True"
            ]
          },
          "execution_count": 6,
          "metadata": {},
          "output_type": "execute_result"
        }
      ],
      "source": [
        "nltk.download('punkt')\n",
        "nltk.download('wordnet')\n",
        "nltk.download('omw-1.4')"
      ]
    },
    {
      "cell_type": "code",
      "execution_count": null,
      "metadata": {
        "colab": {
          "base_uri": "https://localhost:8080/",
          "height": 181
        },
        "id": "0yof48yINaaE",
        "outputId": "4b7e4a9e-28cc-4e65-beee-84e643c0a7f6"
      },
      "outputs": [
        {
          "data": {
            "application/vnd.google.colaboratory.intrinsic+json": {
              "type": "string"
            },
            "text/plain": [
              "\"\\n\\n\\n\\n\\n\\n\\n\\n\\n\\n\\n\\n\\n\\n\\nSVCE Tirupati\\n\\n\\n\\n\\n\\n\\n\\n\\n\\n\\n\\n\\n\\n\\n\\n\\nERP\\n\\n\\n\\nCampx\\n\\n\\n\\nSPICES Club\\n\\n\\nExamination Cell\\n\\n\\nResults\\n\\n\\nQuick Links\\n\\n\\n\\nAbout us\\n\\n\\n\\nAlumni\\n\\n\\n\\nContact us\\n\\n\\n\\n\\n\\n\\n\\n\\n \\n\\n\\n\\nHome\\n\\n\\nDepartments\\n\\n\\nComputer Science & Engineering\\nCSE - AI & ML\\nCSE - Data Science\\nCSE - Cyber Security\\nInformation Technology\\nElectronics & Communication Engineering\\nElectrical & Electronics Engineering\\nMechanical Engineering\\nCivil Engineering\\nMaster of Business Administration\\nMaster of Computer Applications\\nScience & Humanities\\n\\n\\n\\n\\n\\nPlacements\\n\\n\\nAdmissions\\n\\n\\nR&D\\n\\n\\nCampus Life\\n\\n\\nFees\\n\\n\\n\\nJobs\\n\\n\\n\\n\\n\\n\\n\\n\\n\\n \\n\\n\\n\\n\\n\\n\\n\\n\\n\\n\\nHome\\n\\n\\n                        Departments\\n                    \\n\\n\\n\\nComputer Science & Engineering\\nCSE - AI & ML\\nCSE - Data Science\\nCSE - Cyber Security\\nInformation Technology\\nElectronics & Communication Engineering\\nElectrical & Electronics Engineering\\nMechanical Engineering\\nCivil Engineering\\nMaster of Business Administration\\nMaster of Computer Applications\\nScience & Humanities\\n\\n\\n\\nFees\\nPlacements\\nAdmissions\\nCampus Life\\nR&D\\nJobs\\nSPICES Club\\nAlumni\\n\\nFresher's Fest\\n\\n\\nQuick Links\\n\\nResults\\n\\nExamination Cell\\n\\nNew SERB\\nAbout Us\\nContact us\\n\\n\\n\\n\\n\\n\\n\\n\\n\\n \\n\\n\\n \\n\\n\\n\\n\\n\\n\\n\\n\\n\\n\\n\\n\\n\\n\\n\\n\\n\\n\\n\\n\\n\\n\\n\\n\\n\\n\\n\\n\\n\\n\\n\\n\\n\\n\\n 2100+ students are placed in MNCs for the academic year 2021-22\\n\\n Know More\\n\\n\\n\\n\\n\\n\\n\\n\\n\\n\\n\\n\\n\\n\\n\\n\\n\\n\\nAccreditations of Institution\\n\\n Know More\\n\\n\\n\\n\\n\\n\\n\\n\\n\\nCampus Life\\n\\n Know More\\n\\n\\n\\n\\n\\n  Previous    Next \\n\\n\\n\\n\\n\\n\\n\\n\\n\\n\\n\\n\\nOUR ACCREDITATIONS\\n\\n\\n\\n\\n\\n\\n\\n\\n\\n\\n\\n\\n\\n\\n\\n\\n\\n\\n\\n\\n\\n\\n\\n\\n\\n\\n\\n\\n\\n\\n\\n\\n\\n\\n\\nCAMPUS UPDATES\\n\\n\\n\\n\\n\\n\\n\\n\\n\\n\\n\\n\\n\\n\\nOct\\n16\\n\\n\\n\\nCyber Security and Ethical Hacking\\n\\nLearn More \\n\\n\\n\\n\\n\\n\\n\\n\\n\\n\\n\\nJul\\n05\\n\\n\\n\\nCall for researchers \\n\\nLearn More \\n\\n\\n\\n\\n\\n\\n\\n\\n\\n\\n\\nFeb\\n08\\n\\n\\n\\nRecruitment\\n\\nLearn More \\n\\n\\n\\n\\n\\n\\n\\n\\n\\n\\n\\nFeb\\n06\\n\\n\\n\\nWorld Cancer Day\\n\\nLearn More \\n\\n\\n\\n\\n\\n\\n\\n\\n\\n\\n\\nFeb\\n05\\n\\n\\n\\nAcheivement\\n\\nLearn More \\n\\n\\n\\n\\n\\n\\n\\n\\n\\n\\n\\nJan\\n26\\n\\n\\n\\nHappy Republic Day\\n\\nLearn More \\n\\n\\n\\n\\n\\n\\n\\n\\n\\n\\n\\nJan\\n16\\n\\n\\n\\nHappy Kanuma\\n\\nLearn More \\n\\n\\n\\n\\n\\n\\n\\n\\n\\n\\n\\nJan\\n15\\n\\n\\n\\nHappy Sankranthi\\n\\nLearn More \\n\\n\\n\\n\\n\\n\\n\\n\\n\\n\\n\\nJan\\n14\\n\\n\\n\\nHappy Bhogi\\n\\nLearn More \\n\\n\\n\\n\\n\\n\\n\\n\\n\\n\\n\\nJan\\n13\\n\\n\\n\\nHarivillu - Traditional Day\\n\\nLearn More \\n\\n\\n\\n\\n\\n\\n\\n\\n\\n\\n\\nJan\\n12\\n\\n\\n\\nNational Youth Day\\n\\nLearn More \\n\\n\\n\\n\\n\\n\\n\\n\\n\\n\\n\\nJan\\n01\\n\\n\\n\\nHappy New Year\\n\\nLearn More \\n\\n\\n\\n\\n\\n\\n\\n\\n\\n\\n\\nDec\\n25\\n\\n\\n\\nMerry Christmas\\n\\nLearn More \\n\\n\\n\\n\\n\\n\\n\\n\\n\\n\\n\\nDec\\n21\\n\\n\\n\\nNational Mathematics Day\\n\\nLearn More \\n\\n\\n\\n\\n\\n\\n\\n\\n\\n\\n\\nDec\\n17\\n\\n\\n\\nFreshers Day\\n\\nLearn More \\n\\n\\n\\n\\n\\n\\n\\n\\n\\n\\n\\nOct\\n24\\n\\n\\n\\nHappy Diwali \\n\\nLearn More \\n\\n\\n\\n\\n\\n\\n\\n\\n\\n\\n\\nOct\\n12\\n\\n\\n\\nWelcome freshers\\n\\nLearn More \\n\\n\\n\\n\\n\\n\\n\\n\\n\\n\\n\\nOct\\n07\\n\\n\\n\\nWorld smile day\\n\\nLearn More \\n\\n\\n\\n\\n\\n\\n\\n\\n\\n\\n\\nOct\\n05\\n\\n\\n\\nDigit placements\\n\\nLearn More \\n\\n\\n\\n\\n\\n\\n\\n\\n\\n\\n\\nOct\\n05\\n\\n\\n\\nHappy Dusshera\\n\\nLearn More \\n\\n\\n\\n\\n\\n\\n\\n\\n\\n\\n\\nSep\\n24\\n\\n\\n\\nImportance of marketing in Today's economy \\n\\nLearn More \\n\\n\\n\\n\\n\\n\\n\\n\\n\\n\\n\\nSep\\n20\\n\\n\\n\\nZoho Campus Placements\\n\\nLearn More \\n\\n\\n\\n\\n\\n\\n\\n\\n\\n\\n\\nSep\\n17\\n\\n\\n\\nLatest Trends and Opportunities in Embedded Systems and VLSI Design\\n\\nLearn More \\n\\n\\n\\n\\n\\n\\n\\n\\n\\n\\n\\nSep\\n15\\n\\n\\n\\nHappy Engineer's day\\n\\nLearn More \\n\\n\\n\\n\\n\\n\\n\\n\\n\\n\\n\\nSep\\n15\\n\\n\\n\\nUNIVERSITY PRINCIPAL AWARD 2022\\n\\nLearn More \\n\\n\\n\\n\\n\\n\\n\\n\\n\\n\\n\\nSep\\n16\\n\\n\\n\\nHands on training in VLSI circuit design \\n\\nLearn More \\n\\n\\n\\n\\n\\n\\n\\n\\n\\n\\n\\nSep\\n08\\n\\n\\n\\nHappy Onam\\n\\nLearn More \\n\\n\\n\\n\\n\\n\\n\\n\\n\\n\\n\\nSep\\n05\\n\\n\\n\\nHappy Teachers day\\n\\nLearn More \\n\\n\\n\\n\\n\\n\\n\\n\\n\\n\\n\\nSep\\n26\\n\\n\\n\\n1st prize won in Smart India Hackathon, 2022\\n\\nLearn More \\n\\n\\n\\n\\n\\n\\n\\n\\n\\n\\n\\nAug\\n31\\n\\n\\n\\nHappy ganesh chaturdhi\\n\\nLearn More \\n\\n\\n\\n\\n\\n\\n\\n\\n\\n\\n\\nAug\\n28\\n\\n\\n\\nPride of SVCE\\n\\nLearn More \\n\\n\\n\\n\\n\\n\\n\\n\\n\\n\\n\\nAug\\n28\\n\\n\\n\\nCongratulations \\n\\nLearn More \\n\\n\\n\\n\\n\\n\\n\\n\\n\\n\\n\\nAug\\n27\\n\\n\\n\\nValedictory function of PACE &IETE\\n\\nLearn More \\n\\n\\n\\n\\n\\n\\n\\n\\n\\n\\n\\nAug\\n27\\n\\n\\n\\nWalk-In-Interview\\n\\nLearn More \\n\\n\\n\\n\\n\\n\\n\\n\\n\\n\\n\\nAug\\n25\\n\\n\\n\\n15 years of Excellence in Engineering \\n\\nLearn More \\n\\n\\n\\n\\n\\n\\n\\n\\n\\n\\n\\nAug\\n19\\n\\n\\n\\nHappy Krishnastami\\n\\nLearn More \\n\\n\\n\\n\\n\\n\\n\\n\\n\\n\\n\\nAug\\n22\\n\\n\\n\\nSVCE and SVEC are merged now\\n\\nLearn More \\n\\n\\n\\n\\n\\n\\n\\n\\n\\n\\n\\nMar\\n12\\n\\n\\n\\nISTE AP STATE AWARDS 2019 & 2020\\n\\nLearn More \\n\\n\\n\\n\\n\\n\\n\\n\\n\\n\\n\\nJun\\n02\\n\\n\\n\\nLook Beyond Conventional\\n\\nLearn More \\n\\n\\n\\n\\n\\n\\n\\n\\n\\n\\n\\nNov\\n10\\n\\n\\n\\nInfotainment on Wheels by Zuari Cement\\n\\nLearn More \\n\\n\\n\\n\\n\\n\\n\\n\\n\\n\\n\\nNov\\n23\\n\\n\\n\\nCarrer Options after Civil Engineering\\n\\nLearn More \\n\\n\\n\\n\\n\\n\\n\\n\\n\\n\\n\\nJul\\n02\\n\\n\\n\\nGoal Setting for Engineering Students\\n\\nLearn More \\n\\n\\n\\n\\n\\n\\n\\n\\n\\n\\n\\nMay\\n29\\n\\n\\n\\nElectromagnetic Theory and Its Applications \\n\\nLearn More \\n\\n\\n\\n\\n\\n\\n\\n\\n\\n\\n\\nMay\\n08\\n\\n\\n\\nVirtual Alumni Meeting\\n\\nLearn More \\n\\n\\n\\n\\n\\n\\n\\n\\n\\n\\n\\n\\n\\n\\n\\n\\n\\n\\n\\n\\n\\nCAMPUS PLACEMENTS\\n\\n\\nCelebrating 2100+ Placements in 2022\\n\\n\\n\\n\\n\\n\\n\\n\\n\\n                                508 Students\\n                            \\nPlaced with\\n3.5 LPA\\n\\n\\n\\n\\n\\n\\n                                350 Students\\n                            \\nPlaced with\\n4.0 - 6.7 LPA\\n\\n\\n\\n\\n\\n\\n                                263 Students\\n                            \\nPlaced with\\n4.0 - 7.5 LPA\\n\\n\\n\\n\\n\\n\\n                                180 Students\\n                            \\nPlaced with\\n3.3 - 7.6 LPA\\n\\n\\n\\n\\n\\n\\n                                144 Students\\n                            \\nPlaced with\\n2.1 LPA\\n\\n\\n\\n\\n\\n\\n                                116 Students\\n                            \\nPlaced with\\n4.5 - 6.7 LPA\\n\\n\\n\\n\\n\\n\\n                                116 Students\\n                            \\nPlaced with\\n4.0 LPA\\n\\n\\n\\n\\n\\n\\n                                2 Students\\n                            \\nPlaced with\\n5.0 LPA\\n\\n\\n\\n\\n\\n\\n                                46 Students\\n                            \\nPlaced with\\n4.0 LPA\\n\\n\\n\\n\\n\\n\\n                                43 Students\\n                            \\nPlaced with\\n4.0 LPA\\n\\n\\n\\n\\n\\n\\n                                32 Students\\n                            \\nPlaced with\\n5.0 LPA\\n\\n\\n\\n\\n\\n\\n                                32 Students\\n                            \\nPlaced with\\n5.0 LPA\\n\\n\\n\\n\\n\\n\\n                                26 Students\\n                            \\nPlaced with\\n4.5 - 7.2 LPA\\n\\n\\n\\n\\n\\n\\n                                28 Students\\n                            \\nPlaced with\\n3.6 LPA\\n\\n\\n\\n\\n\\n\\n                                15 Students\\n                            \\nPlaced with\\n4.0 LPA\\n\\n\\n\\n\\n\\n\\n                                16 Students\\n                            \\nPlaced with\\n4.0 LPA\\n\\n\\n\\n\\n\\n\\n                                16 Students\\n                            \\nPlaced with\\n4.0 LPA\\n\\n\\n\\n\\n\\n\\n                                14 Students\\n                            \\nPlaced with\\n4.0 LPA\\n\\n\\n\\n\\n\\n\\n                                14 Students\\n                            \\nPlaced with\\n4.0 LPA\\n\\n\\n\\n\\n\\n\\n                                4 Students\\n                            \\nPlaced with\\n7.0 LPA\\n\\n\\n\\n\\n\\n\\n                                4 Students\\n                            \\nPlaced with\\n7.0 LPA\\n\\n\\n\\n\\n\\n\\n                                4 Students\\n                            \\nPlaced with\\n5.6 - 7.0 LPA\\n\\n\\n\\n\\n\\n\\n                                4 Students\\n                            \\nPlaced with\\n4.0 LPA\\n\\n\\n\\n\\n\\n\\n                                4 Students\\n                            \\nPlaced with\\n4.0 LPA\\n\\n\\n\\n\\n\\n\\n                                4 Students\\n                            \\nPlaced with\\n4.0 LPA\\n\\n\\n\\n\\n\\n\\n                                4 Students\\n                            \\nPlaced with\\n4.0 LPA\\n\\n\\n\\n\\n\\n\\n                                2 Students\\n                            \\nPlaced with\\n6.5 LPA\\n\\n\\n\\n\\n\\n\\n                                2 Students\\n                            \\nPlaced with\\n3.0 LPA\\n\\n\\n\\n\\n\\n\\n                                1 Student\\n                            \\nPlaced with\\n6.0 LPA\\n\\n\\n\\n\\n\\n\\n                                1 Student\\n                            \\nPlaced with\\n4.0 LPA\\n\\n\\n\\n\\n\\n\\n                                1 Student\\n                            \\nPlaced with\\n4.0 LPA\\n\\n\\n\\n\\n\\n\\n                                1 Student\\n                            \\nPlaced with\\n4.0 LPA\\n\\n\\n\\n\\n\\n\\n                                1 Student\\n                            \\nPlaced with\\n4.0 LPA\\n\\n\\n\\n\\n\\n\\n\\n\\n\\n\\n\\n\\n\\n\\n\\n\\n\\nABOUT SVCE\\n\\n\\n\\n\\n\\n\\n\\n\\n\\n\\nLearning at SVCE has a pragmatic approach with a clear focus, valuing individual vision, intellectual discipline, and a sense of teamwork. We aim at developing our students to their full potential, preparing them to take the next step towards career success.\\n\\n\\n\\n\\n\\n\\n\\n\\n\\n\\n\\nSVCE is committed to its role in creating leaders through its innovative programmes, outstanding faculty and thought leadership. SVCE nurtures global leaders who can speak their minds and work well with others in a wide range of cultural contexts. It will develop their ability to manage a career successfully in the global economy.\\n\\n\\n\\n\\n\\n\\n\\n\\n\\n\\n\\nSVCE persistently seeks and adopts innovative methods to improve the quality of higher education on a consistent basis. The most important part of your life is the years spent discovering who you are and what you want to be. There’s no place better than SVCE to spend those precious years.\\n\\n\\n\\n\\n\\n\\n\\n\\n\\n\\n\\nOur teaching modes and methods of assessment vary between courses to ensure that you gain the most benefit from the interactive course content, faculty members, fellow students, and invited guests. Lectures comprise only a portion of course delivery, the remaining are taken up by discussions, seminars, case analysis, simulation, individual and group projects, and presentations.\\n\\n\\n\\n\\n\\n\\n\\n\\n\\n\\n\\nALUMNI TESTIMONIALS\\n\\n\\n\\n\\n\\n\\n\\n\\n\\n\\n\\n‘Stop Doubting yourself work hard and make it happen’ this is what SVCE taught me in the past 4 Years. I would like to thank to faculty for their untiring efforts which lead their students to reach heights in their career.  Most importantly our placement cell gave enough opportunities for each and every one and motivated us in every aspect. Moving from a student phase to an employee phase is a wonderful opportunity thanks to SVCE to make my dream true.\\nK. Sai Dinesh\\nB.Tech CSE – 2017\\n\\n\\n\\n\\n\\n\\n\\n\\n\\nJoining in SVCE is a turning point in my life.   4 years of my study at SVCE took my skills to the next level. Well experienced and highly qualified faculty is the strength of SVCE.  The college is an abode of learning and gave me an opportunity to improve my over all personality.  Excellent placement cell is an asset for svce thanks to management and the principal for brining top most MNC’S  to our campus.  The training which I received by our college helped me to get selected in an interview in my very first attempt. Iam very thankful to our college, my faculty and also placement cell for their continuous support and encouragement.\\nKethan Vemuri\\nB.Tech CSE – 2020\\n\\n\\n\\n\\n\\n\\n\\n\\n\\nSVCE College played an integral part in my overall development. They have been dedicated in that. SVCE college contributed more than what i expected in shaping my skills and moulding my future. Faculty, campus and events everything was such a learning experience for me. Thanks to SVCE. I am glad to be part of it.\\nD. Chitra Swetha\\nB.Tech EEE – 2021\\n                                    \\n\\n\\n\\n\\n\\n\\n\\n\\n\\n\\n\\n\\n\\n\\n\\n\\n\\n\\n\\n\\n\\n\\n\\nTHIS IS WHERE YOUR FUTURE STARTS\\n\\n\\n\\n\\n\\n\\n\\nJoin SV COLLEGES,\\n                    \\n\\n                        Your Education Is Our Responsibility. \\n\\n\\n\\n\\n\\n\\n\\n                            APPLY NOW\\n\\n\\n\\n\\n\\n\\n\\n\\n                            CONTACT US\\n\\n\\n\\n\\n\\n\\n\\n\\n\\n\\n\\n\\n\\n\\n\\nOUR ACCREDITATIONS\\n\\n\\n\\n\\n\\n\\n\\n\\n\\n\\n\\n\\n\\n\\n\\n\\n\\n\\n\\n\\n\\n\\n\\n\\n\\n\\n\\n\\n\\n\\n\\n\\n\\n\\n\\n\\n\\n\\n\\n\\n\\n \\n \\n\\n\\nSV Colleges have upheld a rigorous commitment to the curriculum and the programs that we offer, with a\\n                    wide range of courses at our four institutions spread across Kadapa and Tirupati campuses. Read More... \\n\\n\\n\\nQuick links\\n\\n\\nAdmissions\\nInstitutions\\n\\n\\nSVCE Tirupati\\nSVEC Tirupati\\nSVCK Kadapa\\nSVDC Kadapa\\n\\n\\nPlacements \\nAlumni\\nJobs\\nContact Us\\nMandatory Disclosure\\nNAAC\\nIQAC\\nIIC\\nNIRF_2023\\nStudent Grievance\\nStudent-Faculty Feedback\\nHR Policy\\nR&D Policy\\nAudit Statement\\nGB MoM\\nMembers of Academic Council\\nAICTE EOAs\\nSVCE Committees\\nSVCE Clubs\\nNews Letters\\nExaminations\\n\\n\\n\\n\\nTirupati Campus\\n\\n\\nSVCE & SVEC Karakambadi Road, Tirupati\\n                \\n\\n+91 8886644985\\ninfo@svce.edu.in\\ninfo@svec.edu.in\\n\\n\\n\\n\\nKadapa Campus\\n\\n\\nSVCK & SVDK Balaji Nagar, Kadapa\\n                \\n\\n+91 9440283434  +91 9491944373\\ninfo@svck.edu.in\\ninfo@svdc.edu.in\\n\\n\\n\\n\\n\\n\\n\\n\\n\\nTerms & Conditions\\nPrivacy\\nAccessibility\\n\\n\\n@ SV Colleges - All Rights are Reserved\\n\\n\\n\\n\\n\\n\\n\\n\\n\\n\\n\\n\\n\\n\\n\\n\\n\\n\\n\""
            ]
          },
          "execution_count": 7,
          "metadata": {},
          "output_type": "execute_result"
        }
      ],
      "source": [
        "raw_doc"
      ]
    },
    {
      "cell_type": "code",
      "execution_count": null,
      "metadata": {
        "colab": {
          "base_uri": "https://localhost:8080/",
          "height": 181
        },
        "id": "sSlhCKk-62PI",
        "outputId": "8f890420-35ed-45fb-b229-c0e0f9d96623"
      },
      "outputs": [
        {
          "data": {
            "application/vnd.google.colaboratory.intrinsic+json": {
              "type": "string"
            },
            "text/plain": [
              "\"\\n\\n\\n\\n\\n\\n\\n\\n\\n\\n\\n\\n\\n\\n\\nSVCE Tirupati\\n\\n\\n\\n\\n\\n\\n\\n\\n\\n\\n\\n\\n\\n\\n\\n\\nERP\\n\\n\\n\\nCampx\\n\\n\\n\\nSPICES Club\\n\\n\\nExamination Cell\\n\\n\\nResults\\n\\n\\nQuick Links\\n\\n\\n\\nAbout us\\n\\n\\n\\nAlumni\\n\\n\\n\\nContact us\\n\\n\\n\\n\\n\\n\\n\\n\\n \\n\\n\\n\\nHome\\n\\n\\nDepartments\\n\\n\\nComputer Science & Engineering\\nCSE - AI & ML\\nCSE - Data Science\\nCSE - Cyber Security\\nInformation Technology\\nElectronics & Communication Engineering\\nElectrical & Electronics Engineering\\nMechanical Engineering\\nCivil Engineering\\nMaster of Business Administration\\nMaster of Computer Applications\\nScience & Humanities\\n\\n\\n\\n\\n\\nPlacements\\n\\n\\nAdmissions\\n\\n\\nR&D\\n\\n\\nCampus Life\\n\\n\\nFees\\n\\n\\n\\nJobs\\n\\n\\n\\n\\n\\n\\n\\n\\n\\n \\n\\n\\n\\n\\n\\n\\n\\n\\n\\n\\nHome\\n\\n\\n                        Departments\\n                    \\n\\n\\n\\nComputer Science & Engineering\\nCSE - AI & ML\\nCSE - Data Science\\nCSE - Cyber Security\\nInformation Technology\\nElectronics & Communication Engineering\\nElectrical & Electronics Engineering\\nMechanical Engineering\\nCivil Engineering\\nMaster of Business Administration\\nMaster of Computer Applications\\nScience & Humanities\\n\\n\\n\\nFees\\nPlacements\\nAdmissions\\nCampus Life\\nR&D\\nJobs\\nSPICES Club\\nAlumni\\n\\nFresher's Fest\\n\\n\\nQuick Links\\n\\nResults\\n\\nExamination Cell\\n\\nNew SERB\\nAbout Us\\nContact us\\n\\n\\n\\n\\n\\n\\n\\n\\n\\n \\n\\n\\n \\n\\n\\n\\n\\n\\n\\n\\n\\n\\n\\n\\n\\n\\n\\n\\n\\n\\n\\n\\n\\n\\n\\n\\n\\n\\n\\n\\n\\n\\n\\n\\n\\n\\n\\n 2100+ students are placed in MNCs for the academic year 2021-22\\n\\n Know More\\n\\n\\n\\n\\n\\n\\n\\n\\n\\n\\n\\n\\n\\n\\n\\n\\n\\n\\nAccreditations of Institution\\n\\n Know More\\n\\n\\n\\n\\n\\n\\n\\n\\n\\nCampus Life\\n\\n Know More\\n\\n\\n\\n\\n\\n  Previous    Next \\n\\n\\n\\n\\n\\n\\n\\n\\n\\n\\n\\n\\nOUR ACCREDITATIONS\\n\\n\\n\\n\\n\\n\\n\\n\\n\\n\\n\\n\\n\\n\\n\\n\\n\\n\\n\\n\\n\\n\\n\\n\\n\\n\\n\\n\\n\\n\\n\\n\\n\\n\\n\\nCAMPUS UPDATES\\n\\n\\n\\n\\n\\n\\n\\n\\n\\n\\n\\n\\n\\n\\nOct\\n16\\n\\n\\n\\nCyber Security and Ethical Hacking\\n\\nLearn More \\n\\n\\n\\n\\n\\n\\n\\n\\n\\n\\n\\nJul\\n05\\n\\n\\n\\nCall for researchers \\n\\nLearn More \\n\\n\\n\\n\\n\\n\\n\\n\\n\\n\\n\\nFeb\\n08\\n\\n\\n\\nRecruitment\\n\\nLearn More \\n\\n\\n\\n\\n\\n\\n\\n\\n\\n\\n\\nFeb\\n06\\n\\n\\n\\nWorld Cancer Day\\n\\nLearn More \\n\\n\\n\\n\\n\\n\\n\\n\\n\\n\\n\\nFeb\\n05\\n\\n\\n\\nAcheivement\\n\\nLearn More \\n\\n\\n\\n\\n\\n\\n\\n\\n\\n\\n\\nJan\\n26\\n\\n\\n\\nHappy Republic Day\\n\\nLearn More \\n\\n\\n\\n\\n\\n\\n\\n\\n\\n\\n\\nJan\\n16\\n\\n\\n\\nHappy Kanuma\\n\\nLearn More \\n\\n\\n\\n\\n\\n\\n\\n\\n\\n\\n\\nJan\\n15\\n\\n\\n\\nHappy Sankranthi\\n\\nLearn More \\n\\n\\n\\n\\n\\n\\n\\n\\n\\n\\n\\nJan\\n14\\n\\n\\n\\nHappy Bhogi\\n\\nLearn More \\n\\n\\n\\n\\n\\n\\n\\n\\n\\n\\n\\nJan\\n13\\n\\n\\n\\nHarivillu - Traditional Day\\n\\nLearn More \\n\\n\\n\\n\\n\\n\\n\\n\\n\\n\\n\\nJan\\n12\\n\\n\\n\\nNational Youth Day\\n\\nLearn More \\n\\n\\n\\n\\n\\n\\n\\n\\n\\n\\n\\nJan\\n01\\n\\n\\n\\nHappy New Year\\n\\nLearn More \\n\\n\\n\\n\\n\\n\\n\\n\\n\\n\\n\\nDec\\n25\\n\\n\\n\\nMerry Christmas\\n\\nLearn More \\n\\n\\n\\n\\n\\n\\n\\n\\n\\n\\n\\nDec\\n21\\n\\n\\n\\nNational Mathematics Day\\n\\nLearn More \\n\\n\\n\\n\\n\\n\\n\\n\\n\\n\\n\\nDec\\n17\\n\\n\\n\\nFreshers Day\\n\\nLearn More \\n\\n\\n\\n\\n\\n\\n\\n\\n\\n\\n\\nOct\\n24\\n\\n\\n\\nHappy Diwali \\n\\nLearn More \\n\\n\\n\\n\\n\\n\\n\\n\\n\\n\\n\\nOct\\n12\\n\\n\\n\\nWelcome freshers\\n\\nLearn More \\n\\n\\n\\n\\n\\n\\n\\n\\n\\n\\n\\nOct\\n07\\n\\n\\n\\nWorld smile day\\n\\nLearn More \\n\\n\\n\\n\\n\\n\\n\\n\\n\\n\\n\\nOct\\n05\\n\\n\\n\\nDigit placements\\n\\nLearn More \\n\\n\\n\\n\\n\\n\\n\\n\\n\\n\\n\\nOct\\n05\\n\\n\\n\\nHappy Dusshera\\n\\nLearn More \\n\\n\\n\\n\\n\\n\\n\\n\\n\\n\\n\\nSep\\n24\\n\\n\\n\\nImportance of marketing in Today's economy \\n\\nLearn More \\n\\n\\n\\n\\n\\n\\n\\n\\n\\n\\n\\nSep\\n20\\n\\n\\n\\nZoho Campus Placements\\n\\nLearn More \\n\\n\\n\\n\\n\\n\\n\\n\\n\\n\\n\\nSep\\n17\\n\\n\\n\\nLatest Trends and Opportunities in Embedded Systems and VLSI Design\\n\\nLearn More \\n\\n\\n\\n\\n\\n\\n\\n\\n\\n\\n\\nSep\\n15\\n\\n\\n\\nHappy Engineer's day\\n\\nLearn More \\n\\n\\n\\n\\n\\n\\n\\n\\n\\n\\n\\nSep\\n15\\n\\n\\n\\nUNIVERSITY PRINCIPAL AWARD 2022\\n\\nLearn More \\n\\n\\n\\n\\n\\n\\n\\n\\n\\n\\n\\nSep\\n16\\n\\n\\n\\nHands on training in VLSI circuit design \\n\\nLearn More \\n\\n\\n\\n\\n\\n\\n\\n\\n\\n\\n\\nSep\\n08\\n\\n\\n\\nHappy Onam\\n\\nLearn More \\n\\n\\n\\n\\n\\n\\n\\n\\n\\n\\n\\nSep\\n05\\n\\n\\n\\nHappy Teachers day\\n\\nLearn More \\n\\n\\n\\n\\n\\n\\n\\n\\n\\n\\n\\nSep\\n26\\n\\n\\n\\n1st prize won in Smart India Hackathon, 2022\\n\\nLearn More \\n\\n\\n\\n\\n\\n\\n\\n\\n\\n\\n\\nAug\\n31\\n\\n\\n\\nHappy ganesh chaturdhi\\n\\nLearn More \\n\\n\\n\\n\\n\\n\\n\\n\\n\\n\\n\\nAug\\n28\\n\\n\\n\\nPride of SVCE\\n\\nLearn More \\n\\n\\n\\n\\n\\n\\n\\n\\n\\n\\n\\nAug\\n28\\n\\n\\n\\nCongratulations \\n\\nLearn More \\n\\n\\n\\n\\n\\n\\n\\n\\n\\n\\n\\nAug\\n27\\n\\n\\n\\nValedictory function of PACE &IETE\\n\\nLearn More \\n\\n\\n\\n\\n\\n\\n\\n\\n\\n\\n\\nAug\\n27\\n\\n\\n\\nWalk-In-Interview\\n\\nLearn More \\n\\n\\n\\n\\n\\n\\n\\n\\n\\n\\n\\nAug\\n25\\n\\n\\n\\n15 years of Excellence in Engineering \\n\\nLearn More \\n\\n\\n\\n\\n\\n\\n\\n\\n\\n\\n\\nAug\\n19\\n\\n\\n\\nHappy Krishnastami\\n\\nLearn More \\n\\n\\n\\n\\n\\n\\n\\n\\n\\n\\n\\nAug\\n22\\n\\n\\n\\nSVCE and SVEC are merged now\\n\\nLearn More \\n\\n\\n\\n\\n\\n\\n\\n\\n\\n\\n\\nMar\\n12\\n\\n\\n\\nISTE AP STATE AWARDS 2019 & 2020\\n\\nLearn More \\n\\n\\n\\n\\n\\n\\n\\n\\n\\n\\n\\nJun\\n02\\n\\n\\n\\nLook Beyond Conventional\\n\\nLearn More \\n\\n\\n\\n\\n\\n\\n\\n\\n\\n\\n\\nNov\\n10\\n\\n\\n\\nInfotainment on Wheels by Zuari Cement\\n\\nLearn More \\n\\n\\n\\n\\n\\n\\n\\n\\n\\n\\n\\nNov\\n23\\n\\n\\n\\nCarrer Options after Civil Engineering\\n\\nLearn More \\n\\n\\n\\n\\n\\n\\n\\n\\n\\n\\n\\nJul\\n02\\n\\n\\n\\nGoal Setting for Engineering Students\\n\\nLearn More \\n\\n\\n\\n\\n\\n\\n\\n\\n\\n\\n\\nMay\\n29\\n\\n\\n\\nElectromagnetic Theory and Its Applications \\n\\nLearn More \\n\\n\\n\\n\\n\\n\\n\\n\\n\\n\\n\\nMay\\n08\\n\\n\\n\\nVirtual Alumni Meeting\\n\\nLearn More \\n\\n\\n\\n\\n\\n\\n\\n\\n\\n\\n\\n\\n\\n\\n\\n\\n\\n\\n\\n\\n\\nCAMPUS PLACEMENTS\\n\\n\\nCelebrating 2100+ Placements in 2022\\n\\n\\n\\n\\n\\n\\n\\n\\n\\n                                508 Students\\n                            \\nPlaced with\\n3.5 LPA\\n\\n\\n\\n\\n\\n\\n                                350 Students\\n                            \\nPlaced with\\n4.0 - 6.7 LPA\\n\\n\\n\\n\\n\\n\\n                                263 Students\\n                            \\nPlaced with\\n4.0 - 7.5 LPA\\n\\n\\n\\n\\n\\n\\n                                180 Students\\n                            \\nPlaced with\\n3.3 - 7.6 LPA\\n\\n\\n\\n\\n\\n\\n                                144 Students\\n                            \\nPlaced with\\n2.1 LPA\\n\\n\\n\\n\\n\\n\\n                                116 Students\\n                            \\nPlaced with\\n4.5 - 6.7 LPA\\n\\n\\n\\n\\n\\n\\n                                116 Students\\n                            \\nPlaced with\\n4.0 LPA\\n\\n\\n\\n\\n\\n\\n                                2 Students\\n                            \\nPlaced with\\n5.0 LPA\\n\\n\\n\\n\\n\\n\\n                                46 Students\\n                            \\nPlaced with\\n4.0 LPA\\n\\n\\n\\n\\n\\n\\n                                43 Students\\n                            \\nPlaced with\\n4.0 LPA\\n\\n\\n\\n\\n\\n\\n                                32 Students\\n                            \\nPlaced with\\n5.0 LPA\\n\\n\\n\\n\\n\\n\\n                                32 Students\\n                            \\nPlaced with\\n5.0 LPA\\n\\n\\n\\n\\n\\n\\n                                26 Students\\n                            \\nPlaced with\\n4.5 - 7.2 LPA\\n\\n\\n\\n\\n\\n\\n                                28 Students\\n                            \\nPlaced with\\n3.6 LPA\\n\\n\\n\\n\\n\\n\\n                                15 Students\\n                            \\nPlaced with\\n4.0 LPA\\n\\n\\n\\n\\n\\n\\n                                16 Students\\n                            \\nPlaced with\\n4.0 LPA\\n\\n\\n\\n\\n\\n\\n                                16 Students\\n                            \\nPlaced with\\n4.0 LPA\\n\\n\\n\\n\\n\\n\\n                                14 Students\\n                            \\nPlaced with\\n4.0 LPA\\n\\n\\n\\n\\n\\n\\n                                14 Students\\n                            \\nPlaced with\\n4.0 LPA\\n\\n\\n\\n\\n\\n\\n                                4 Students\\n                            \\nPlaced with\\n7.0 LPA\\n\\n\\n\\n\\n\\n\\n                                4 Students\\n                            \\nPlaced with\\n7.0 LPA\\n\\n\\n\\n\\n\\n\\n                                4 Students\\n                            \\nPlaced with\\n5.6 - 7.0 LPA\\n\\n\\n\\n\\n\\n\\n                                4 Students\\n                            \\nPlaced with\\n4.0 LPA\\n\\n\\n\\n\\n\\n\\n                                4 Students\\n                            \\nPlaced with\\n4.0 LPA\\n\\n\\n\\n\\n\\n\\n                                4 Students\\n                            \\nPlaced with\\n4.0 LPA\\n\\n\\n\\n\\n\\n\\n                                4 Students\\n                            \\nPlaced with\\n4.0 LPA\\n\\n\\n\\n\\n\\n\\n                                2 Students\\n                            \\nPlaced with\\n6.5 LPA\\n\\n\\n\\n\\n\\n\\n                                2 Students\\n                            \\nPlaced with\\n3.0 LPA\\n\\n\\n\\n\\n\\n\\n                                1 Student\\n                            \\nPlaced with\\n6.0 LPA\\n\\n\\n\\n\\n\\n\\n                                1 Student\\n                            \\nPlaced with\\n4.0 LPA\\n\\n\\n\\n\\n\\n\\n                                1 Student\\n                            \\nPlaced with\\n4.0 LPA\\n\\n\\n\\n\\n\\n\\n                                1 Student\\n                            \\nPlaced with\\n4.0 LPA\\n\\n\\n\\n\\n\\n\\n                                1 Student\\n                            \\nPlaced with\\n4.0 LPA\\n\\n\\n\\n\\n\\n\\n\\n\\n\\n\\n\\n\\n\\n\\n\\n\\n\\nABOUT SVCE\\n\\n\\n\\n\\n\\n\\n\\n\\n\\n\\nLearning at SVCE has a pragmatic approach with a clear focus, valuing individual vision, intellectual discipline, and a sense of teamwork. We aim at developing our students to their full potential, preparing them to take the next step towards career success.\\n\\n\\n\\n\\n\\n\\n\\n\\n\\n\\n\\nSVCE is committed to its role in creating leaders through its innovative programmes, outstanding faculty and thought leadership. SVCE nurtures global leaders who can speak their minds and work well with others in a wide range of cultural contexts. It will develop their ability to manage a career successfully in the global economy.\\n\\n\\n\\n\\n\\n\\n\\n\\n\\n\\n\\nSVCE persistently seeks and adopts innovative methods to improve the quality of higher education on a consistent basis. The most important part of your life is the years spent discovering who you are and what you want to be. There’s no place better than SVCE to spend those precious years.\\n\\n\\n\\n\\n\\n\\n\\n\\n\\n\\n\\nOur teaching modes and methods of assessment vary between courses to ensure that you gain the most benefit from the interactive course content, faculty members, fellow students, and invited guests. Lectures comprise only a portion of course delivery, the remaining are taken up by discussions, seminars, case analysis, simulation, individual and group projects, and presentations.\\n\\n\\n\\n\\n\\n\\n\\n\\n\\n\\n\\nALUMNI TESTIMONIALS\\n\\n\\n\\n\\n\\n\\n\\n\\n\\n\\n\\n‘Stop Doubting yourself work hard and make it happen’ this is what SVCE taught me in the past 4 Years. I would like to thank to faculty for their untiring efforts which lead their students to reach heights in their career.  Most importantly our placement cell gave enough opportunities for each and every one and motivated us in every aspect. Moving from a student phase to an employee phase is a wonderful opportunity thanks to SVCE to make my dream true.\\nK. Sai Dinesh\\nB.Tech CSE – 2017\\n\\n\\n\\n\\n\\n\\n\\n\\n\\nJoining in SVCE is a turning point in my life.   4 years of my study at SVCE took my skills to the next level. Well experienced and highly qualified faculty is the strength of SVCE.  The college is an abode of learning and gave me an opportunity to improve my over all personality.  Excellent placement cell is an asset for svce thanks to management and the principal for brining top most MNC’S  to our campus.  The training which I received by our college helped me to get selected in an interview in my very first attempt. Iam very thankful to our college, my faculty and also placement cell for their continuous support and encouragement.\\nKethan Vemuri\\nB.Tech CSE – 2020\\n\\n\\n\\n\\n\\n\\n\\n\\n\\nSVCE College played an integral part in my overall development. They have been dedicated in that. SVCE college contributed more than what i expected in shaping my skills and moulding my future. Faculty, campus and events everything was such a learning experience for me. Thanks to SVCE. I am glad to be part of it.\\nD. Chitra Swetha\\nB.Tech EEE – 2021\\n                                    \\n\\n\\n\\n\\n\\n\\n\\n\\n\\n\\n\\n\\n\\n\\n\\n\\n\\n\\n\\n\\n\\n\\n\\nTHIS IS WHERE YOUR FUTURE STARTS\\n\\n\\n\\n\\n\\n\\n\\nJoin SV COLLEGES,\\n                    \\n\\n                        Your Education Is Our Responsibility. \\n\\n\\n\\n\\n\\n\\n\\n                            APPLY NOW\\n\\n\\n\\n\\n\\n\\n\\n\\n                            CONTACT US\\n\\n\\n\\n\\n\\n\\n\\n\\n\\n\\n\\n\\n\\n\\n\\nOUR ACCREDITATIONS\\n\\n\\n\\n\\n\\n\\n\\n\\n\\n\\n\\n\\n\\n\\n\\n\\n\\n\\n\\n\\n\\n\\n\\n\\n\\n\\n\\n\\n\\n\\n\\n\\n\\n\\n\\n\\n\\n\\n\\n\\n\\n \\n \\n\\n\\nSV Colleges have upheld a rigorous commitment to the curriculum and the programs that we offer, with a\\n                    wide range of courses at our four institutions spread across Kadapa and Tirupati campuses. Read More... \\n\\n\\n\\nQuick links\\n\\n\\nAdmissions\\nInstitutions\\n\\n\\nSVCE Tirupati\\nSVEC Tirupati\\nSVCK Kadapa\\nSVDC Kadapa\\n\\n\\nPlacements \\nAlumni\\nJobs\\nContact Us\\nMandatory Disclosure\\nNAAC\\nIQAC\\nIIC\\nNIRF_2023\\nStudent Grievance\\nStudent-Faculty Feedback\\nHR Policy\\nR&D Policy\\nAudit Statement\\nGB MoM\\nMembers of Academic Council\\nAICTE EOAs\\nSVCE Committees\\nSVCE Clubs\\nNews Letters\\nExaminations\\n\\n\\n\\n\\nTirupati Campus\\n\\n\\nSVCE & SVEC Karakambadi Road, Tirupati\\n                \\n\\n+91 8886644985\\ninfo@svce.edu.in\\ninfo@svec.edu.in\\n\\n\\n\\n\\nKadapa Campus\\n\\n\\nSVCK & SVDK Balaji Nagar, Kadapa\\n                \\n\\n+91 9440283434  +91 9491944373\\ninfo@svck.edu.in\\ninfo@svdc.edu.in\\n\\n\\n\\n\\n\\n\\n\\n\\n\\nTerms & Conditions\\nPrivacy\\nAccessibility\\n\\n\\n@ SV Colleges - All Rights are Reserved\\n\\n\\n\\n\\n\\n\\n\\n\\n\\n\\n\\n\\n\\n\\n\\n\\n\\n\\n\""
            ]
          },
          "execution_count": 8,
          "metadata": {},
          "output_type": "execute_result"
        }
      ],
      "source": [
        " re.sub(r'\\n', ' ', raw_doc)\n",
        " raw_doc"
      ]
    },
    {
      "cell_type": "code",
      "execution_count": null,
      "metadata": {
        "colab": {
          "base_uri": "https://localhost:8080/"
        },
        "id": "jpsyqzION9zl",
        "outputId": "c68bb46d-e2c4-42e8-afe5-95eec2b52096"
      },
      "outputs": [
        {
          "name": "stderr",
          "output_type": "stream",
          "text": [
            "[nltk_data] Downloading package stopwords to /root/nltk_data...\n",
            "[nltk_data]   Unzipping corpora/stopwords.zip.\n",
            "[nltk_data] Downloading package punkt to /root/nltk_data...\n",
            "[nltk_data]   Package punkt is already up-to-date!\n",
            "[nltk_data] Downloading package wordnet to /root/nltk_data...\n",
            "[nltk_data]   Package wordnet is already up-to-date!\n"
          ]
        },
        {
          "data": {
            "text/plain": [
              "True"
            ]
          },
          "execution_count": 9,
          "metadata": {},
          "output_type": "execute_result"
        }
      ],
      "source": [
        "from nltk.corpus import stopwords\n",
        "from nltk.tokenize import word_tokenize\n",
        "from nltk.stem import WordNetLemmatizer\n",
        "\n",
        "\n",
        "nltk.download('stopwords')\n",
        "nltk.download('punkt')\n",
        "nltk.download('wordnet')\n"
      ]
    },
    {
      "cell_type": "code",
      "execution_count": null,
      "metadata": {
        "id": "oVPEzQwpOG_4"
      },
      "outputs": [],
      "source": [
        "sentence_tokens = nltk.sent_tokenize(raw_doc)\n",
        "word_tokens = nltk.word_tokenize(raw_doc)"
      ]
    },
    {
      "cell_type": "code",
      "execution_count": null,
      "metadata": {
        "id": "TYJnl0XeOQh8"
      },
      "outputs": [],
      "source": [
        "lemmer =nltk.stem.WordNetLemmatizer()\n",
        "def LemTokens(tokens):\n",
        "  return [lemmer.lemmatize(token) for token in tokens]\n",
        "remove_punc_dict = dict((ord(punct),None)for punct in string.punctuation)\n",
        "def LemNormalize(text):\n",
        "  return LemTokens(nltk.word_tokenize(text.lower().translate(remove_punc_dict)))"
      ]
    },
    {
      "cell_type": "code",
      "execution_count": null,
      "metadata": {
        "id": "t3HJS8eFOW5G"
      },
      "outputs": [],
      "source": [
        "greet_inputs =('hello','hey','hi','hey there','hy',\"HELLO\",'HI','Hello','Hi',\"Namasthe\")\n",
        "greet_response=('hi','hey','hey there')\n",
        "def greet(sentence):\n",
        "  for word in sentence.split():\n",
        "    if word.lower() in greet_inputs:\n",
        "      return random.choice(greet_response)\n"
      ]
    },
    {
      "cell_type": "code",
      "execution_count": null,
      "metadata": {
        "id": "XDlYjQv2PU_P"
      },
      "outputs": [],
      "source": [
        "from sklearn.feature_extraction.text import TfidfVectorizer\n",
        "from sklearn.metrics.pairwise import cosine_similarity"
      ]
    },
    {
      "cell_type": "code",
      "execution_count": null,
      "metadata": {
        "id": "-wrabKNPObCj"
      },
      "outputs": [],
      "source": [
        "def response(user_response):\n",
        "  robo1_response = ''\n",
        "  TfidfVec = TfidfVectorizer(tokenizer = LemNormalize,stop_words=\"english\")\n",
        "  Tfidf = TfidfVec.fit_transform(sentence_tokens)\n",
        "  vals=cosine_similarity(Tfidf[-1],Tfidf)\n",
        "  idx =vals.argsort()[0][-2]\n",
        "  flat = vals.flatten()\n",
        "  flat.sort()\n",
        "  req_tfid=flat[-2]\n",
        "  if (req_tfid==0):\n",
        "    robo1_response=robo1_response + \"Iam sorry.Unable to understand you!\"\n",
        "    return robo1_response\n",
        "  else:\n",
        "    robo1_response =robo1_response + sentence_tokens[idx]\n",
        "    return robo1_response\n"
      ]
    },
    {
      "cell_type": "code",
      "execution_count": null,
      "metadata": {
        "id": "DGV_XalviCut"
      },
      "outputs": [],
      "source": []
    },
    {
      "cell_type": "code",
      "execution_count": null,
      "metadata": {
        "colab": {
          "background_save": true,
          "base_uri": "https://localhost:8080/"
        },
        "id": "u8chkcNbOjkD",
        "outputId": "a2e03068-ea58-42ff-9831-5799f50f7ec5"
      },
      "outputs": [
        {
          "name": "stdout",
          "output_type": "stream",
          "text": [
            "Hello! Iam the Retrieval Learning Bot.start typing your text after to talk me.for ending conversation type bye!\n",
            "Bot:hey\n",
            "Bot:"
          ]
        },
        {
          "name": "stderr",
          "output_type": "stream",
          "text": [
            "/usr/local/lib/python3.10/dist-packages/sklearn/feature_extraction/text.py:528: UserWarning: The parameter 'token_pattern' will not be used since 'tokenizer' is not None'\n",
            "  warnings.warn(\n",
            "/usr/local/lib/python3.10/dist-packages/sklearn/feature_extraction/text.py:409: UserWarning: Your stop_words may be inconsistent with your preprocessing. Tokenizing the stop words generated tokens ['ha', 'le', 'u', 'wa'] not in stop_words.\n",
            "  warnings.warn(\n"
          ]
        },
        {
          "name": "stdout",
          "output_type": "stream",
          "text": [
            "Thanks to SVCE.\n",
            "Bot:Read More... \n",
            "\n",
            "\n",
            "\n",
            "Quick links\n",
            "\n",
            "\n",
            "Admissions\n",
            "Institutions\n",
            "\n",
            "\n",
            "SVCE Tirupati\n",
            "SVEC Tirupati\n",
            "SVCK Kadapa\n",
            "SVDC Kadapa\n",
            "\n",
            "\n",
            "Placements \n",
            "Alumni\n",
            "Jobs\n",
            "Contact Us\n",
            "Mandatory Disclosure\n",
            "NAAC\n",
            "IQAC\n",
            "IIC\n",
            "NIRF_2023\n",
            "Student Grievance\n",
            "Student-Faculty Feedback\n",
            "HR Policy\n",
            "R&D Policy\n",
            "Audit Statement\n",
            "GB MoM\n",
            "Members of Academic Council\n",
            "AICTE EOAs\n",
            "SVCE Committees\n",
            "SVCE Clubs\n",
            "News Letters\n",
            "Examinations\n",
            "\n",
            "\n",
            "\n",
            "\n",
            "Tirupati Campus\n",
            "\n",
            "\n",
            "SVCE & SVEC Karakambadi Road, Tirupati\n",
            "                \n",
            "\n",
            "+91 8886644985\n",
            "info@svce.edu.in\n",
            "info@svec.edu.in\n",
            "\n",
            "\n",
            "\n",
            "\n",
            "Kadapa Campus\n",
            "\n",
            "\n",
            "SVCK & SVDK Balaji Nagar, Kadapa\n",
            "                \n",
            "\n",
            "+91 9440283434  +91 9491944373\n",
            "info@svck.edu.in\n",
            "info@svdc.edu.in\n",
            "\n",
            "\n",
            "\n",
            "\n",
            "\n",
            "\n",
            "\n",
            "\n",
            "\n",
            "Terms & Conditions\n",
            "Privacy\n",
            "Accessibility\n",
            "\n",
            "\n",
            "@ SV Colleges - All Rights are Reserved\n"
          ]
        }
      ],
      "source": [
        "flag = True\n",
        "print('Hello! Iam the Retrieval Learning Bot.start typing your text after to talk me.for ending conversation type bye!')\n",
        "while(flag == True):\n",
        "  user_response= input()\n",
        "  user_response = user_response.lower()\n",
        "  if (user_response != 'bye'):\n",
        "    if(user_response == 'thank you' or user_response =='thanks' ):\n",
        "      flag=False\n",
        "      print(\"bot:you are welcome..\")\n",
        "    else:\n",
        "      if(greet(user_response) != None):\n",
        "        print('Bot:'+ greet(user_response))\n",
        "      else:\n",
        "        sentence_tokens.append(user_response)\n",
        "        word_tokens = word_tokens + nltk.word_tokenize(user_response)\n",
        "        finalword = list(set(word_tokens))\n",
        "        print('Bot:', end = '')\n",
        "        print(response(user_response))\n",
        "        sentence_tokens.remove(user_response)\n",
        "else:\n",
        "  flag= False\n",
        "  print('bot:Goodbye')"
      ]
    },
    {
      "cell_type": "code",
      "execution_count": null,
      "metadata": {
        "id": "NWAXJU6wxCnn"
      },
      "outputs": [],
      "source": []
    },
    {
      "cell_type": "code",
      "execution_count": null,
      "metadata": {
        "id": "r_fr5AYMtsi4"
      },
      "outputs": [],
      "source": []
    }
  ],
  "metadata": {
    "colab": {
      "provenance": []
    },
    "kernelspec": {
      "display_name": "Python 3",
      "name": "python3"
    },
    "language_info": {
      "name": "python"
    }
  },
  "nbformat": 4,
  "nbformat_minor": 0
}